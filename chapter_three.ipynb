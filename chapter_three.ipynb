{
 "cells": [
  {
   "cell_type": "markdown",
   "id": "68946ca0-6f9b-4f58-ac97-a6daba31e02a",
   "metadata": {},
   "source": [
    "# Chapter THREE: The LangChain Mission"
   ]
  },
  {
   "cell_type": "markdown",
   "id": "8460a4c9-bc3d-415b-911c-77cdddca5ec7",
   "metadata": {},
   "source": [
    "Using **LangChain** means we need to learn about the **LangChain Expression Language** (**LCEL**) \n",
    "and the changes it brings. Let's take it a line at a time. NOTE: make sure you add your `OPENAI_API_KEY` to an environment variable before running this."
   ]
  },
  {
   "cell_type": "markdown",
   "id": "49b7e46b-4142-4e75-b587-c6dd415aecd6",
   "metadata": {},
   "source": [
    "## Import libraries"
   ]
  },
  {
   "cell_type": "markdown",
   "id": "caa72548-e2bf-461e-a5d5-2dff54164bac",
   "metadata": {},
   "source": [
    "Import the `ChatPromptTemplate` class from the `langchain_core.prompts` module"
   ]
  },
  {
   "cell_type": "code",
   "execution_count": 1,
   "id": "6005e0fb-7d2a-4787-9480-b553c9d029ea",
   "metadata": {
    "scrolled": true
   },
   "outputs": [],
   "source": [
    "from langchain_core.prompts import ChatPromptTemplate"
   ]
  },
  {
   "cell_type": "markdown",
   "id": "24c6d74b-3c52-46fd-9cdd-8e77f5c43d6c",
   "metadata": {},
   "source": [
    "Import the `ChatOpenAI` class from the `langchain_openai` module"
   ]
  },
  {
   "cell_type": "code",
   "execution_count": 2,
   "id": "8df2291d-d02f-48bb-961a-449e8bc27b41",
   "metadata": {},
   "outputs": [],
   "source": [
    "from langchain_openai import ChatOpenAI"
   ]
  },
  {
   "cell_type": "markdown",
   "id": "1914fda5-5255-49d8-ac61-b082ef6cbb80",
   "metadata": {},
   "source": [
    "## Initalize Chat Model"
   ]
  },
  {
   "cell_type": "markdown",
   "id": "1c40c609-eb81-42d5-b444-1a5f5dca3109",
   "metadata": {},
   "source": [
    "Create an instance of the `ChatOpenAI` class to use as the `model`\n"
   ]
  },
  {
   "cell_type": "code",
   "execution_count": 3,
   "id": "8dee9c8a-d496-4721-b0e6-1ad924cd7eca",
   "metadata": {},
   "outputs": [],
   "source": [
    "model = ChatOpenAI()"
   ]
  },
  {
   "cell_type": "markdown",
   "id": "277285f9-5367-43f8-8ee8-67f4bd67ffff",
   "metadata": {},
   "source": [
    "## Setup Prompt Template"
   ]
  },
  {
   "cell_type": "markdown",
   "id": "ffba8c4c-ae5b-49ef-b9d0-eb130cffd999",
   "metadata": {},
   "source": [
    "Create an instance of the `ChatPromptTemplate` class with a specific template to use as the `prompt`."
   ]
  },
  {
   "cell_type": "code",
   "execution_count": 4,
   "id": "c169a3b1-8be5-44d0-ade5-2dcbdce01860",
   "metadata": {},
   "outputs": [],
   "source": [
    "prompt = ChatPromptTemplate.from_template(\"Generate a short story about a {topic}.\")"
   ]
  },
  {
   "cell_type": "markdown",
   "id": "4d387e63-55c8-4000-8f38-35515a782d1d",
   "metadata": {},
   "source": [
    "## Create the chain"
   ]
  },
  {
   "cell_type": "markdown",
   "id": "67dbceb1-35a4-4a31-b7a9-11ffbf54c4e5",
   "metadata": {},
   "source": [
    " Create a `chain` by combining the `prompt` and the `model`. \n",
    "The `|` operator is used to combine the `prompt` and the `model`\n"
   ]
  },
  {
   "cell_type": "code",
   "execution_count": 5,
   "id": "b4631363-5d2b-48a0-a920-d27151273bb3",
   "metadata": {},
   "outputs": [],
   "source": [
    "chain = prompt | model"
   ]
  },
  {
   "cell_type": "markdown",
   "id": "8e2a5769-9b1b-424f-a575-c12157b70869",
   "metadata": {},
   "source": [
    "## Run the chain"
   ]
  },
  {
   "cell_type": "markdown",
   "id": "14d857bf-afd2-4860-a5ae-513efcba5d08",
   "metadata": {},
   "source": [
    "Invoke the `chain` with a specific `topic` (\"secret agent\") and store the `result`"
   ]
  },
  {
   "cell_type": "code",
   "execution_count": 6,
   "id": "461188b2-dbfa-40f9-8c89-11f480bfffe5",
   "metadata": {},
   "outputs": [],
   "source": [
    "result = chain.invoke({\"topic\":\"secret agent\"})"
   ]
  },
  {
   "cell_type": "markdown",
   "id": "00f0207f-0db2-4ab4-8de2-f6b5ae4bbf07",
   "metadata": {},
   "source": [
    "By combining the `prompt` and the `model` into a `chain (prompt | model)`, you’re creating a sequence of operations that can be easily reused. When you invoke the `chain` with a specific `topic`, the following happens:\n",
    "\n",
    "* The `prompt` is prepared by replacing the `{topic}` placeholder with the actual `topic`.\n",
    "* The prepared `prompt` is passed to the language `model`, which generates a response."
   ]
  },
  {
   "cell_type": "markdown",
   "id": "b16fc0b8-de43-4fc5-8434-b77d41a9e071",
   "metadata": {},
   "source": [
    "## Print the result"
   ]
  },
  {
   "cell_type": "code",
   "execution_count": 7,
   "id": "1fcd317d-e233-4e4a-9d02-76bf55a22fd9",
   "metadata": {},
   "outputs": [
    {
     "name": "stdout",
     "output_type": "stream",
     "text": [
      "content=\"Agent Smith was known as one of the best secret agents in the world. His missions were always successful, and his cover was never blown. However, there was one mission that haunted him - the mission that went terribly wrong.\\n\\nIt was supposed to be a routine mission, gather intel on a terrorist group planning an attack. But as Smith infiltrated their base, he was discovered. He fought his way out, but not before being captured and tortured for days.\\n\\nSmith managed to escape, but he was a changed man. The physical scars healed, but the mental scars ran deep. He became paranoid, constantly looking over his shoulder and questioning everyone's loyalty. He distanced himself from his team, not wanting to put them in danger.\\n\\nDespite his best efforts to move on, the memories of that failed mission continued to haunt him. He couldn't shake the feeling that he had been set up, that someone had betrayed him. He became obsessed with finding out the truth, even if it meant risking his own life.\\n\\nAs Smith delved deeper into the mystery, he uncovered a web of deceit and betrayal that went all the way to the top. The very people he had trusted had been working against him all along. But Smith was not one to back down. He vowed to bring them to justice, no matter the cost.\\n\\nIn the end, Smith's determination paid off. The traitors were exposed, and justice was served. But the price was high - Smith had lost everything he held dear. He was a broken man, haunted by the ghosts of his past.\\n\\nBut as he sat alone in his empty apartment, staring out at the city below, Smith knew one thing for certain - he may have lost everything, but he had never lost his sense of duty. And as long as there were threats to be faced and innocents to be protected, Agent Smith would always be ready to answer the call.\" response_metadata={'token_usage': {'completion_tokens': 382, 'prompt_tokens': 16, 'total_tokens': 398}, 'model_name': 'gpt-3.5-turbo', 'system_fingerprint': None, 'finish_reason': 'stop', 'logprobs': None} id='run-573a6e17-41dd-40b3-be8b-803ddfd8030a-0'\n"
     ]
    }
   ],
   "source": [
    "print(result)"
   ]
  },
  {
   "cell_type": "markdown",
   "id": "ff0a14ab-959a-43d1-8f51-1ed92d5a044b",
   "metadata": {},
   "source": [
    "## Format the output"
   ]
  },
  {
   "cell_type": "code",
   "execution_count": 8,
   "id": "74e3878c-1320-4ab1-a0bf-44f7fa779b69",
   "metadata": {},
   "outputs": [],
   "source": [
    "from langchain.schema.output_parser import StrOutputParser"
   ]
  },
  {
   "cell_type": "markdown",
   "id": "13794287-a537-49e4-b225-61aafe7edf6f",
   "metadata": {},
   "source": [
    "Let's use the `StrOutputParser` to format the `model`’s output into a `string`."
   ]
  },
  {
   "cell_type": "code",
   "execution_count": 9,
   "id": "a6a63b16-0069-49ff-bbee-513ccca1d6a6",
   "metadata": {},
   "outputs": [],
   "source": [
    "output_parser = StrOutputParser()"
   ]
  },
  {
   "cell_type": "markdown",
   "id": "a1550a4e-32ae-43fa-bfcc-cc823daf20ea",
   "metadata": {},
   "source": [
    "## Update the chain with the parser"
   ]
  },
  {
   "cell_type": "code",
   "execution_count": 14,
   "id": "95ac5a76-8c45-43c0-b12e-dd2fa6810284",
   "metadata": {},
   "outputs": [],
   "source": [
    "chain = prompt | model | output_parser"
   ]
  },
  {
   "cell_type": "code",
   "execution_count": 15,
   "id": "2b6f934b-7afa-4577-ab02-602be0f77976",
   "metadata": {},
   "outputs": [],
   "source": [
    "result = chain.invoke({\"topic\":\"secret agent\"})"
   ]
  },
  {
   "cell_type": "code",
   "execution_count": 16,
   "id": "b937e83d-832b-4c78-99c8-8329f970ed08",
   "metadata": {},
   "outputs": [
    {
     "name": "stdout",
     "output_type": "stream",
     "text": [
      "Agent Smith was one of the top secret agents in the world, known for his quick thinking and stealthy tactics. His latest mission involved infiltrating a highly guarded facility to retrieve valuable information on a terrorist organization.\n",
      "\n",
      "Disguised as a janitor, Agent Smith made his way through the facility, carefully avoiding security cameras and guards. Using his expert hacking skills, he was able to bypass electronic locks and gain access to the classified files he needed.\n",
      "\n",
      "As he made his way out of the facility, Agent Smith was suddenly confronted by the head of security. A tense standoff ensued, but Agent Smith was able to outmaneuver his opponent and make a daring escape.\n",
      "\n",
      "Back at headquarters, Agent Smith delivered the information to his superiors, who were impressed by his quick thinking and resourcefulness. As he received his next assignment, Agent Smith couldn't help but smile, knowing that he was one step closer to bringing down the terrorist organization and keeping the world safe.\n"
     ]
    }
   ],
   "source": [
    "print(result)"
   ]
  },
  {
   "cell_type": "markdown",
   "id": "db3cd89b-2106-4283-8be1-cd5e5ca9e52b",
   "metadata": {},
   "source": [
    "## Create the chain graph and print as ascii"
   ]
  },
  {
   "cell_type": "markdown",
   "id": "c1e36d6c-ceb1-46cf-8bfe-661bf1812571",
   "metadata": {},
   "source": [
    "The `get_graph()` method is used to create a graph representation of this `chain`. Each node in the graph represents an operation in the chain, and the edges represent the flow of data between these operations.\n",
    "\n",
    "The `print_ascii()` method is then used to print this graph in an ASCII format132. This provides a visual representation of the chain, making it easier to understand the sequence of operations and how data flows through the chain."
   ]
  },
  {
   "cell_type": "code",
   "execution_count": 13,
   "id": "3b520767-4687-429b-9648-535e98ec0824",
   "metadata": {},
   "outputs": [
    {
     "name": "stdout",
     "output_type": "stream",
     "text": [
      "     +-------------+       \n",
      "     | PromptInput |       \n",
      "     +-------------+       \n",
      "            *              \n",
      "            *              \n",
      "            *              \n",
      "  +--------------------+   \n",
      "  | ChatPromptTemplate |   \n",
      "  +--------------------+   \n",
      "            *              \n",
      "            *              \n",
      "            *              \n",
      "      +------------+       \n",
      "      | ChatOpenAI |       \n",
      "      +------------+       \n",
      "            *              \n",
      "            *              \n",
      "            *              \n",
      "   +-----------------+     \n",
      "   | StrOutputParser |     \n",
      "   +-----------------+     \n",
      "            *              \n",
      "            *              \n",
      "            *              \n",
      "+-----------------------+  \n",
      "| StrOutputParserOutput |  \n",
      "+-----------------------+  \n"
     ]
    }
   ],
   "source": [
    "chain.get_graph().print_ascii()"
   ]
  },
  {
   "cell_type": "code",
   "execution_count": null,
   "id": "118ad22c-556c-41cd-b44f-91de9871f38f",
   "metadata": {},
   "outputs": [],
   "source": []
  }
 ],
 "metadata": {
  "kernelspec": {
   "display_name": "Python 3 (ipykernel)",
   "language": "python",
   "name": "python3"
  },
  "language_info": {
   "codemirror_mode": {
    "name": "ipython",
    "version": 3
   },
   "file_extension": ".py",
   "mimetype": "text/x-python",
   "name": "python",
   "nbconvert_exporter": "python",
   "pygments_lexer": "ipython3",
   "version": "3.10.0"
  }
 },
 "nbformat": 4,
 "nbformat_minor": 5
}
